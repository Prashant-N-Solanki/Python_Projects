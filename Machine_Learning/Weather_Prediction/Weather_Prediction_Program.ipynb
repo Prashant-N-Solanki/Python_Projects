{
 "cells": [
  {
   "cell_type": "markdown",
   "metadata": {},
   "source": [
    "READING DATA FROM A .CSV FILE"
   ]
  },
  {
   "cell_type": "code",
   "execution_count": 7,
   "metadata": {},
   "outputs": [
    {
     "data": {
      "text/html": [
       "<div>\n",
       "<style scoped>\n",
       "    .dataframe tbody tr th:only-of-type {\n",
       "        vertical-align: middle;\n",
       "    }\n",
       "\n",
       "    .dataframe tbody tr th {\n",
       "        vertical-align: top;\n",
       "    }\n",
       "\n",
       "    .dataframe thead th {\n",
       "        text-align: right;\n",
       "    }\n",
       "</style>\n",
       "<table border=\"1\" class=\"dataframe\">\n",
       "  <thead>\n",
       "    <tr style=\"text-align: right;\">\n",
       "      <th></th>\n",
       "      <th>date</th>\n",
       "      <th>precipitation</th>\n",
       "      <th>temp_max</th>\n",
       "      <th>temp_min</th>\n",
       "      <th>wind</th>\n",
       "      <th>weather</th>\n",
       "    </tr>\n",
       "  </thead>\n",
       "  <tbody>\n",
       "    <tr>\n",
       "      <th>0</th>\n",
       "      <td>1/1/2012</td>\n",
       "      <td>0.0</td>\n",
       "      <td>12.8</td>\n",
       "      <td>5.0</td>\n",
       "      <td>4.7</td>\n",
       "      <td>drizzle</td>\n",
       "    </tr>\n",
       "    <tr>\n",
       "      <th>1</th>\n",
       "      <td>1/2/2012</td>\n",
       "      <td>10.9</td>\n",
       "      <td>10.6</td>\n",
       "      <td>2.8</td>\n",
       "      <td>4.5</td>\n",
       "      <td>rain</td>\n",
       "    </tr>\n",
       "    <tr>\n",
       "      <th>2</th>\n",
       "      <td>1/3/2012</td>\n",
       "      <td>0.8</td>\n",
       "      <td>11.7</td>\n",
       "      <td>7.2</td>\n",
       "      <td>2.3</td>\n",
       "      <td>rain</td>\n",
       "    </tr>\n",
       "    <tr>\n",
       "      <th>3</th>\n",
       "      <td>1/4/2012</td>\n",
       "      <td>20.3</td>\n",
       "      <td>12.2</td>\n",
       "      <td>5.6</td>\n",
       "      <td>4.7</td>\n",
       "      <td>rain</td>\n",
       "    </tr>\n",
       "    <tr>\n",
       "      <th>4</th>\n",
       "      <td>1/5/2012</td>\n",
       "      <td>1.3</td>\n",
       "      <td>8.9</td>\n",
       "      <td>2.8</td>\n",
       "      <td>6.1</td>\n",
       "      <td>rain</td>\n",
       "    </tr>\n",
       "  </tbody>\n",
       "</table>\n",
       "</div>"
      ],
      "text/plain": [
       "       date  precipitation  temp_max  temp_min  wind  weather\n",
       "0  1/1/2012            0.0      12.8       5.0   4.7  drizzle\n",
       "1  1/2/2012           10.9      10.6       2.8   4.5     rain\n",
       "2  1/3/2012            0.8      11.7       7.2   2.3     rain\n",
       "3  1/4/2012           20.3      12.2       5.6   4.7     rain\n",
       "4  1/5/2012            1.3       8.9       2.8   6.1     rain"
      ]
     },
     "execution_count": 7,
     "metadata": {},
     "output_type": "execute_result"
    }
   ],
   "source": [
    "import pandas as pd\n",
    "\n",
    "df = pd.read_csv('Weather_Prediction_Data.csv')\n",
    "df.head()"
   ]
  },
  {
   "cell_type": "markdown",
   "metadata": {},
   "source": [
    "CHECKING IF THE DATA CONSISTS OF ANY NULL VALUES"
   ]
  },
  {
   "cell_type": "code",
   "execution_count": 8,
   "metadata": {},
   "outputs": [
    {
     "data": {
      "text/plain": [
       "date             0\n",
       "precipitation    0\n",
       "temp_max         0\n",
       "temp_min         0\n",
       "wind             0\n",
       "weather          0\n",
       "dtype: int64"
      ]
     },
     "execution_count": 8,
     "metadata": {},
     "output_type": "execute_result"
    }
   ],
   "source": [
    "df.isnull().sum()"
   ]
  },
  {
   "cell_type": "markdown",
   "metadata": {},
   "source": [
    "CONVERTING THE VALUES OF THE WEATHER COLUMN TO NUMERIC USING LABEL_ENCODER"
   ]
  },
  {
   "cell_type": "code",
   "execution_count": 9,
   "metadata": {},
   "outputs": [
    {
     "data": {
      "text/html": [
       "<div>\n",
       "<style scoped>\n",
       "    .dataframe tbody tr th:only-of-type {\n",
       "        vertical-align: middle;\n",
       "    }\n",
       "\n",
       "    .dataframe tbody tr th {\n",
       "        vertical-align: top;\n",
       "    }\n",
       "\n",
       "    .dataframe thead th {\n",
       "        text-align: right;\n",
       "    }\n",
       "</style>\n",
       "<table border=\"1\" class=\"dataframe\">\n",
       "  <thead>\n",
       "    <tr style=\"text-align: right;\">\n",
       "      <th></th>\n",
       "      <th>date</th>\n",
       "      <th>precipitation</th>\n",
       "      <th>temp_max</th>\n",
       "      <th>temp_min</th>\n",
       "      <th>wind</th>\n",
       "      <th>weather</th>\n",
       "    </tr>\n",
       "  </thead>\n",
       "  <tbody>\n",
       "    <tr>\n",
       "      <th>0</th>\n",
       "      <td>1/1/2012</td>\n",
       "      <td>0.0</td>\n",
       "      <td>12.8</td>\n",
       "      <td>5.0</td>\n",
       "      <td>4.7</td>\n",
       "      <td>0</td>\n",
       "    </tr>\n",
       "    <tr>\n",
       "      <th>1</th>\n",
       "      <td>1/2/2012</td>\n",
       "      <td>10.9</td>\n",
       "      <td>10.6</td>\n",
       "      <td>2.8</td>\n",
       "      <td>4.5</td>\n",
       "      <td>2</td>\n",
       "    </tr>\n",
       "    <tr>\n",
       "      <th>2</th>\n",
       "      <td>1/3/2012</td>\n",
       "      <td>0.8</td>\n",
       "      <td>11.7</td>\n",
       "      <td>7.2</td>\n",
       "      <td>2.3</td>\n",
       "      <td>2</td>\n",
       "    </tr>\n",
       "    <tr>\n",
       "      <th>3</th>\n",
       "      <td>1/4/2012</td>\n",
       "      <td>20.3</td>\n",
       "      <td>12.2</td>\n",
       "      <td>5.6</td>\n",
       "      <td>4.7</td>\n",
       "      <td>2</td>\n",
       "    </tr>\n",
       "    <tr>\n",
       "      <th>4</th>\n",
       "      <td>1/5/2012</td>\n",
       "      <td>1.3</td>\n",
       "      <td>8.9</td>\n",
       "      <td>2.8</td>\n",
       "      <td>6.1</td>\n",
       "      <td>2</td>\n",
       "    </tr>\n",
       "  </tbody>\n",
       "</table>\n",
       "</div>"
      ],
      "text/plain": [
       "       date  precipitation  temp_max  temp_min  wind  weather\n",
       "0  1/1/2012            0.0      12.8       5.0   4.7        0\n",
       "1  1/2/2012           10.9      10.6       2.8   4.5        2\n",
       "2  1/3/2012            0.8      11.7       7.2   2.3        2\n",
       "3  1/4/2012           20.3      12.2       5.6   4.7        2\n",
       "4  1/5/2012            1.3       8.9       2.8   6.1        2"
      ]
     },
     "execution_count": 9,
     "metadata": {},
     "output_type": "execute_result"
    }
   ],
   "source": [
    "from sklearn.preprocessing import LabelEncoder\n",
    "le = LabelEncoder()\n",
    "\n",
    "df['weather'] = le.fit_transform(df['weather'])\n",
    "df['weather'].unique()\n",
    "\n",
    "df.head()"
   ]
  },
  {
   "cell_type": "markdown",
   "metadata": {},
   "source": [
    "NORMALIZING THE REMAINING COLUMNS"
   ]
  },
  {
   "cell_type": "code",
   "execution_count": 10,
   "metadata": {},
   "outputs": [
    {
     "data": {
      "text/html": [
       "<div>\n",
       "<style scoped>\n",
       "    .dataframe tbody tr th:only-of-type {\n",
       "        vertical-align: middle;\n",
       "    }\n",
       "\n",
       "    .dataframe tbody tr th {\n",
       "        vertical-align: top;\n",
       "    }\n",
       "\n",
       "    .dataframe thead th {\n",
       "        text-align: right;\n",
       "    }\n",
       "</style>\n",
       "<table border=\"1\" class=\"dataframe\">\n",
       "  <thead>\n",
       "    <tr style=\"text-align: right;\">\n",
       "      <th></th>\n",
       "      <th>date</th>\n",
       "      <th>precipitation</th>\n",
       "      <th>temp_max</th>\n",
       "      <th>temp_min</th>\n",
       "      <th>wind</th>\n",
       "      <th>weather</th>\n",
       "    </tr>\n",
       "  </thead>\n",
       "  <tbody>\n",
       "    <tr>\n",
       "      <th>0</th>\n",
       "      <td>1/1/2012</td>\n",
       "      <td>0.000000</td>\n",
       "      <td>0.359551</td>\n",
       "      <td>0.273224</td>\n",
       "      <td>0.494737</td>\n",
       "      <td>0</td>\n",
       "    </tr>\n",
       "    <tr>\n",
       "      <th>1</th>\n",
       "      <td>1/2/2012</td>\n",
       "      <td>0.194991</td>\n",
       "      <td>0.297753</td>\n",
       "      <td>0.153005</td>\n",
       "      <td>0.473684</td>\n",
       "      <td>2</td>\n",
       "    </tr>\n",
       "    <tr>\n",
       "      <th>2</th>\n",
       "      <td>1/3/2012</td>\n",
       "      <td>0.014311</td>\n",
       "      <td>0.328652</td>\n",
       "      <td>0.393443</td>\n",
       "      <td>0.242105</td>\n",
       "      <td>2</td>\n",
       "    </tr>\n",
       "    <tr>\n",
       "      <th>3</th>\n",
       "      <td>1/4/2012</td>\n",
       "      <td>0.363148</td>\n",
       "      <td>0.342697</td>\n",
       "      <td>0.306011</td>\n",
       "      <td>0.494737</td>\n",
       "      <td>2</td>\n",
       "    </tr>\n",
       "    <tr>\n",
       "      <th>4</th>\n",
       "      <td>1/5/2012</td>\n",
       "      <td>0.023256</td>\n",
       "      <td>0.250000</td>\n",
       "      <td>0.153005</td>\n",
       "      <td>0.642105</td>\n",
       "      <td>2</td>\n",
       "    </tr>\n",
       "  </tbody>\n",
       "</table>\n",
       "</div>"
      ],
      "text/plain": [
       "       date  precipitation  temp_max  temp_min      wind  weather\n",
       "0  1/1/2012       0.000000  0.359551  0.273224  0.494737        0\n",
       "1  1/2/2012       0.194991  0.297753  0.153005  0.473684        2\n",
       "2  1/3/2012       0.014311  0.328652  0.393443  0.242105        2\n",
       "3  1/4/2012       0.363148  0.342697  0.306011  0.494737        2\n",
       "4  1/5/2012       0.023256  0.250000  0.153005  0.642105        2"
      ]
     },
     "execution_count": 10,
     "metadata": {},
     "output_type": "execute_result"
    }
   ],
   "source": [
    "cols = ['precipitation', 'temp_max', 'temp_min', 'wind']\n",
    "\n",
    "for x in cols:\n",
    "  df[x] = df[x] / df[x].max()\n",
    "\n",
    "df.head()"
   ]
  },
  {
   "cell_type": "markdown",
   "metadata": {},
   "source": [
    "REMOVING THE DATE COLUMN"
   ]
  },
  {
   "cell_type": "code",
   "execution_count": 11,
   "metadata": {},
   "outputs": [
    {
     "data": {
      "text/html": [
       "<div>\n",
       "<style scoped>\n",
       "    .dataframe tbody tr th:only-of-type {\n",
       "        vertical-align: middle;\n",
       "    }\n",
       "\n",
       "    .dataframe tbody tr th {\n",
       "        vertical-align: top;\n",
       "    }\n",
       "\n",
       "    .dataframe thead th {\n",
       "        text-align: right;\n",
       "    }\n",
       "</style>\n",
       "<table border=\"1\" class=\"dataframe\">\n",
       "  <thead>\n",
       "    <tr style=\"text-align: right;\">\n",
       "      <th></th>\n",
       "      <th>precipitation</th>\n",
       "      <th>temp_max</th>\n",
       "      <th>temp_min</th>\n",
       "      <th>wind</th>\n",
       "      <th>weather</th>\n",
       "    </tr>\n",
       "  </thead>\n",
       "  <tbody>\n",
       "    <tr>\n",
       "      <th>0</th>\n",
       "      <td>0.000000</td>\n",
       "      <td>0.359551</td>\n",
       "      <td>0.273224</td>\n",
       "      <td>0.494737</td>\n",
       "      <td>0</td>\n",
       "    </tr>\n",
       "    <tr>\n",
       "      <th>1</th>\n",
       "      <td>0.194991</td>\n",
       "      <td>0.297753</td>\n",
       "      <td>0.153005</td>\n",
       "      <td>0.473684</td>\n",
       "      <td>2</td>\n",
       "    </tr>\n",
       "    <tr>\n",
       "      <th>2</th>\n",
       "      <td>0.014311</td>\n",
       "      <td>0.328652</td>\n",
       "      <td>0.393443</td>\n",
       "      <td>0.242105</td>\n",
       "      <td>2</td>\n",
       "    </tr>\n",
       "    <tr>\n",
       "      <th>3</th>\n",
       "      <td>0.363148</td>\n",
       "      <td>0.342697</td>\n",
       "      <td>0.306011</td>\n",
       "      <td>0.494737</td>\n",
       "      <td>2</td>\n",
       "    </tr>\n",
       "    <tr>\n",
       "      <th>4</th>\n",
       "      <td>0.023256</td>\n",
       "      <td>0.250000</td>\n",
       "      <td>0.153005</td>\n",
       "      <td>0.642105</td>\n",
       "      <td>2</td>\n",
       "    </tr>\n",
       "  </tbody>\n",
       "</table>\n",
       "</div>"
      ],
      "text/plain": [
       "   precipitation  temp_max  temp_min      wind  weather\n",
       "0       0.000000  0.359551  0.273224  0.494737        0\n",
       "1       0.194991  0.297753  0.153005  0.473684        2\n",
       "2       0.014311  0.328652  0.393443  0.242105        2\n",
       "3       0.363148  0.342697  0.306011  0.494737        2\n",
       "4       0.023256  0.250000  0.153005  0.642105        2"
      ]
     },
     "execution_count": 11,
     "metadata": {},
     "output_type": "execute_result"
    }
   ],
   "source": [
    "df = df.drop('date', axis = 1)\n",
    "df.head()"
   ]
  },
  {
   "cell_type": "markdown",
   "metadata": {},
   "source": [
    "SPLITTING THE DATA INTO X AND Y"
   ]
  },
  {
   "cell_type": "code",
   "execution_count": 12,
   "metadata": {},
   "outputs": [],
   "source": [
    "x = df.drop('weather', axis = 1)\n",
    "y = df['weather']"
   ]
  },
  {
   "cell_type": "markdown",
   "metadata": {},
   "source": [
    "SPLITTING X AND Y INTO TRAINING SET AND TESTING SET "
   ]
  },
  {
   "cell_type": "code",
   "execution_count": 13,
   "metadata": {},
   "outputs": [],
   "source": [
    "from sklearn.model_selection import train_test_split\n",
    "x_train, x_test, y_train, y_test = train_test_split(x, y, test_size = 0.2, random_state = 0)"
   ]
  },
  {
   "cell_type": "markdown",
   "metadata": {},
   "source": [
    "USING XGBOOST FOR PREDICTION AND TRAINING IT ON THE TRAINING SET"
   ]
  },
  {
   "cell_type": "code",
   "execution_count": 14,
   "metadata": {},
   "outputs": [
    {
     "data": {
      "text/html": [
       "<style>#sk-container-id-1 {color: black;}#sk-container-id-1 pre{padding: 0;}#sk-container-id-1 div.sk-toggleable {background-color: white;}#sk-container-id-1 label.sk-toggleable__label {cursor: pointer;display: block;width: 100%;margin-bottom: 0;padding: 0.3em;box-sizing: border-box;text-align: center;}#sk-container-id-1 label.sk-toggleable__label-arrow:before {content: \"▸\";float: left;margin-right: 0.25em;color: #696969;}#sk-container-id-1 label.sk-toggleable__label-arrow:hover:before {color: black;}#sk-container-id-1 div.sk-estimator:hover label.sk-toggleable__label-arrow:before {color: black;}#sk-container-id-1 div.sk-toggleable__content {max-height: 0;max-width: 0;overflow: hidden;text-align: left;background-color: #f0f8ff;}#sk-container-id-1 div.sk-toggleable__content pre {margin: 0.2em;color: black;border-radius: 0.25em;background-color: #f0f8ff;}#sk-container-id-1 input.sk-toggleable__control:checked~div.sk-toggleable__content {max-height: 200px;max-width: 100%;overflow: auto;}#sk-container-id-1 input.sk-toggleable__control:checked~label.sk-toggleable__label-arrow:before {content: \"▾\";}#sk-container-id-1 div.sk-estimator input.sk-toggleable__control:checked~label.sk-toggleable__label {background-color: #d4ebff;}#sk-container-id-1 div.sk-label input.sk-toggleable__control:checked~label.sk-toggleable__label {background-color: #d4ebff;}#sk-container-id-1 input.sk-hidden--visually {border: 0;clip: rect(1px 1px 1px 1px);clip: rect(1px, 1px, 1px, 1px);height: 1px;margin: -1px;overflow: hidden;padding: 0;position: absolute;width: 1px;}#sk-container-id-1 div.sk-estimator {font-family: monospace;background-color: #f0f8ff;border: 1px dotted black;border-radius: 0.25em;box-sizing: border-box;margin-bottom: 0.5em;}#sk-container-id-1 div.sk-estimator:hover {background-color: #d4ebff;}#sk-container-id-1 div.sk-parallel-item::after {content: \"\";width: 100%;border-bottom: 1px solid gray;flex-grow: 1;}#sk-container-id-1 div.sk-label:hover label.sk-toggleable__label {background-color: #d4ebff;}#sk-container-id-1 div.sk-serial::before {content: \"\";position: absolute;border-left: 1px solid gray;box-sizing: border-box;top: 0;bottom: 0;left: 50%;z-index: 0;}#sk-container-id-1 div.sk-serial {display: flex;flex-direction: column;align-items: center;background-color: white;padding-right: 0.2em;padding-left: 0.2em;position: relative;}#sk-container-id-1 div.sk-item {position: relative;z-index: 1;}#sk-container-id-1 div.sk-parallel {display: flex;align-items: stretch;justify-content: center;background-color: white;position: relative;}#sk-container-id-1 div.sk-item::before, #sk-container-id-1 div.sk-parallel-item::before {content: \"\";position: absolute;border-left: 1px solid gray;box-sizing: border-box;top: 0;bottom: 0;left: 50%;z-index: -1;}#sk-container-id-1 div.sk-parallel-item {display: flex;flex-direction: column;z-index: 1;position: relative;background-color: white;}#sk-container-id-1 div.sk-parallel-item:first-child::after {align-self: flex-end;width: 50%;}#sk-container-id-1 div.sk-parallel-item:last-child::after {align-self: flex-start;width: 50%;}#sk-container-id-1 div.sk-parallel-item:only-child::after {width: 0;}#sk-container-id-1 div.sk-dashed-wrapped {border: 1px dashed gray;margin: 0 0.4em 0.5em 0.4em;box-sizing: border-box;padding-bottom: 0.4em;background-color: white;}#sk-container-id-1 div.sk-label label {font-family: monospace;font-weight: bold;display: inline-block;line-height: 1.2em;}#sk-container-id-1 div.sk-label-container {text-align: center;}#sk-container-id-1 div.sk-container {/* jupyter's `normalize.less` sets `[hidden] { display: none; }` but bootstrap.min.css set `[hidden] { display: none !important; }` so we also need the `!important` here to be able to override the default hidden behavior on the sphinx rendered scikit-learn.org. See: https://github.com/scikit-learn/scikit-learn/issues/21755 */display: inline-block !important;position: relative;}#sk-container-id-1 div.sk-text-repr-fallback {display: none;}</style><div id=\"sk-container-id-1\" class=\"sk-top-container\"><div class=\"sk-text-repr-fallback\"><pre>XGBClassifier(base_score=None, booster=None, callbacks=None,\n",
       "              colsample_bylevel=None, colsample_bynode=None,\n",
       "              colsample_bytree=None, device=None, early_stopping_rounds=None,\n",
       "              enable_categorical=False, eval_metric=None, feature_types=None,\n",
       "              gamma=None, grow_policy=None, importance_type=None,\n",
       "              interaction_constraints=None, learning_rate=None, max_bin=None,\n",
       "              max_cat_threshold=None, max_cat_to_onehot=None,\n",
       "              max_delta_step=None, max_depth=None, max_leaves=None,\n",
       "              min_child_weight=None, missing=nan, monotone_constraints=None,\n",
       "              multi_strategy=None, n_estimators=None, n_jobs=None,\n",
       "              num_parallel_tree=None, objective=&#x27;multi:softprob&#x27;, ...)</pre><b>In a Jupyter environment, please rerun this cell to show the HTML representation or trust the notebook. <br />On GitHub, the HTML representation is unable to render, please try loading this page with nbviewer.org.</b></div><div class=\"sk-container\" hidden><div class=\"sk-item\"><div class=\"sk-estimator sk-toggleable\"><input class=\"sk-toggleable__control sk-hidden--visually\" id=\"sk-estimator-id-1\" type=\"checkbox\" checked><label for=\"sk-estimator-id-1\" class=\"sk-toggleable__label sk-toggleable__label-arrow\">XGBClassifier</label><div class=\"sk-toggleable__content\"><pre>XGBClassifier(base_score=None, booster=None, callbacks=None,\n",
       "              colsample_bylevel=None, colsample_bynode=None,\n",
       "              colsample_bytree=None, device=None, early_stopping_rounds=None,\n",
       "              enable_categorical=False, eval_metric=None, feature_types=None,\n",
       "              gamma=None, grow_policy=None, importance_type=None,\n",
       "              interaction_constraints=None, learning_rate=None, max_bin=None,\n",
       "              max_cat_threshold=None, max_cat_to_onehot=None,\n",
       "              max_delta_step=None, max_depth=None, max_leaves=None,\n",
       "              min_child_weight=None, missing=nan, monotone_constraints=None,\n",
       "              multi_strategy=None, n_estimators=None, n_jobs=None,\n",
       "              num_parallel_tree=None, objective=&#x27;multi:softprob&#x27;, ...)</pre></div></div></div></div></div>"
      ],
      "text/plain": [
       "XGBClassifier(base_score=None, booster=None, callbacks=None,\n",
       "              colsample_bylevel=None, colsample_bynode=None,\n",
       "              colsample_bytree=None, device=None, early_stopping_rounds=None,\n",
       "              enable_categorical=False, eval_metric=None, feature_types=None,\n",
       "              gamma=None, grow_policy=None, importance_type=None,\n",
       "              interaction_constraints=None, learning_rate=None, max_bin=None,\n",
       "              max_cat_threshold=None, max_cat_to_onehot=None,\n",
       "              max_delta_step=None, max_depth=None, max_leaves=None,\n",
       "              min_child_weight=None, missing=nan, monotone_constraints=None,\n",
       "              multi_strategy=None, n_estimators=None, n_jobs=None,\n",
       "              num_parallel_tree=None, objective='multi:softprob', ...)"
      ]
     },
     "execution_count": 14,
     "metadata": {},
     "output_type": "execute_result"
    }
   ],
   "source": [
    "from xgboost import XGBClassifier\n",
    "\n",
    "xbc = XGBClassifier()\n",
    "xbc.fit(x_train, y_train)"
   ]
  },
  {
   "cell_type": "markdown",
   "metadata": {},
   "source": [
    "PREDICTING VALUES BASED ON THE TESTING SET"
   ]
  },
  {
   "cell_type": "code",
   "execution_count": 15,
   "metadata": {},
   "outputs": [
    {
     "name": "stdout",
     "output_type": "stream",
     "text": [
      "[4 0 2 4 1 2 2 2 4 2 4 2 4 4 1 4 4 2 2 2 2 2 2 4 0 0 4 2 4 4 2 4 2 2 4 2 4\n",
      " 2 4 2 4 2 2 2 4 4 0 4 4 4 4 4 4 2 2 4 4 2 4 2 4 4 4 4 1 2 4 4 4 2 2 2 2 1\n",
      " 4 4 4 4 2 2 4 4 2 2 2 0 4 2 4 2 4 4 2 4 2 3 4 4 4 4 2 2 4 2 2 4 2 2 4 4 2\n",
      " 4 2 4 4 4 4 1 2 2 4 2 2 4 2 4 4 4 4 2 4 2 4 2 2 2 4 4 4 4 2 2 4 4 4 2 2 4\n",
      " 4 4 4 4 4 2 4 2 4 1 2 4 4 4 2 4 2 2 1 2 2 2 4 4 4 4 2 2 4 4 4 4 4 4 2 4 2\n",
      " 1 4 2 2 4 4 4 4 4 2 2 4 4 4 4 2 2 4 4 2 2 2 4 4 1 2 2 2 2 1 4 4 2 2 2 4 4\n",
      " 4 2 4 4 4 4 2 4 0 2 2 2 2 4 2 1 2 2 4 2 4 2 2 4 2 4 0 4 4 4 2 3 4 4 4 4 4\n",
      " 4 2 1 4 4 4 2 4 2 4 1 4 4 2 2 0 4 2 4 2 4 2 2 2 4 0 4 2 4 2 4 4 2 4]\n"
     ]
    }
   ],
   "source": [
    "y_predict = xbc.predict(x_test)\n",
    "print(y_predict)"
   ]
  },
  {
   "cell_type": "markdown",
   "metadata": {},
   "source": [
    "COMPARING THE ORIGINAL VALUES TO THE PREDICTED VALUES TO SEE HOW WELL THE MODEL PERFORMED"
   ]
  },
  {
   "cell_type": "code",
   "execution_count": 16,
   "metadata": {},
   "outputs": [
    {
     "name": "stdout",
     "output_type": "stream",
     "text": [
      "AC :  75.76791808873719\n",
      "CR :                precision    recall  f1-score   support\n",
      "\n",
      "           0       0.00      0.00      0.00        10\n",
      "           1       0.15      0.07      0.10        29\n",
      "           2       0.95      0.91      0.93       123\n",
      "           3       1.00      0.33      0.50         6\n",
      "           4       0.70      0.85      0.77       125\n",
      "\n",
      "    accuracy                           0.76       293\n",
      "   macro avg       0.56      0.43      0.46       293\n",
      "weighted avg       0.73      0.76      0.74       293\n",
      "\n"
     ]
    }
   ],
   "source": [
    "from sklearn.metrics import classification_report, accuracy_score\n",
    "\n",
    "print('AC : ', accuracy_score(y_test, y_predict) * 100)\n",
    "print('CR : ', classification_report(y_test, y_predict))"
   ]
  },
  {
   "cell_type": "markdown",
   "metadata": {},
   "source": [
    "USING GRID_SEARCH_CV TO BETTER TRAIN THE MODEL"
   ]
  },
  {
   "cell_type": "code",
   "execution_count": 17,
   "metadata": {},
   "outputs": [
    {
     "name": "stdout",
     "output_type": "stream",
     "text": [
      "Fitting 10 folds for each of 16 candidates, totalling 160 fits\n",
      "[CV] END .........................gamma=0, learning_rate=0.1; total time=   0.4s\n",
      "[CV] END .........................gamma=0, learning_rate=0.1; total time=   0.4s\n",
      "[CV] END .........................gamma=0, learning_rate=0.1; total time=   0.7s\n",
      "[CV] END .........................gamma=0, learning_rate=0.1; total time=   0.4s\n",
      "[CV] END .........................gamma=0, learning_rate=0.1; total time=   0.4s\n",
      "[CV] END .........................gamma=0, learning_rate=0.1; total time=   0.6s\n",
      "[CV] END .........................gamma=0, learning_rate=0.1; total time=   0.6s\n",
      "[CV] END .........................gamma=0, learning_rate=0.1; total time=   0.5s\n",
      "[CV] END .........................gamma=0, learning_rate=0.1; total time=   0.3s\n",
      "[CV] END .........................gamma=0, learning_rate=0.1; total time=   0.3s\n",
      "[CV] END ...........................gamma=0, learning_rate=1; total time=   0.3s\n",
      "[CV] END ...........................gamma=0, learning_rate=1; total time=   0.3s\n",
      "[CV] END ...........................gamma=0, learning_rate=1; total time=   0.3s\n",
      "[CV] END ...........................gamma=0, learning_rate=1; total time=   0.3s\n",
      "[CV] END ...........................gamma=0, learning_rate=1; total time=   0.3s\n",
      "[CV] END ...........................gamma=0, learning_rate=1; total time=   0.3s\n",
      "[CV] END ...........................gamma=0, learning_rate=1; total time=   0.3s\n",
      "[CV] END ...........................gamma=0, learning_rate=1; total time=   0.3s\n",
      "[CV] END ...........................gamma=0, learning_rate=1; total time=   0.3s\n",
      "[CV] END ...........................gamma=0, learning_rate=1; total time=   0.3s\n",
      "[CV] END ........................gamma=0, learning_rate=0.01; total time=   0.4s\n",
      "[CV] END ........................gamma=0, learning_rate=0.01; total time=   0.4s\n",
      "[CV] END ........................gamma=0, learning_rate=0.01; total time=   0.6s\n",
      "[CV] END ........................gamma=0, learning_rate=0.01; total time=   0.8s\n",
      "[CV] END ........................gamma=0, learning_rate=0.01; total time=   0.4s\n",
      "[CV] END ........................gamma=0, learning_rate=0.01; total time=   0.4s\n",
      "[CV] END ........................gamma=0, learning_rate=0.01; total time=   0.6s\n",
      "[CV] END ........................gamma=0, learning_rate=0.01; total time=   0.6s\n",
      "[CV] END ........................gamma=0, learning_rate=0.01; total time=   0.4s\n",
      "[CV] END ........................gamma=0, learning_rate=0.01; total time=   0.4s\n",
      "[CV] END .......................gamma=0, learning_rate=0.001; total time=   0.3s\n",
      "[CV] END .......................gamma=0, learning_rate=0.001; total time=   0.3s\n",
      "[CV] END .......................gamma=0, learning_rate=0.001; total time=   0.3s\n",
      "[CV] END .......................gamma=0, learning_rate=0.001; total time=   0.3s\n",
      "[CV] END .......................gamma=0, learning_rate=0.001; total time=   0.3s\n",
      "[CV] END .......................gamma=0, learning_rate=0.001; total time=   0.4s\n",
      "[CV] END .......................gamma=0, learning_rate=0.001; total time=   1.0s\n",
      "[CV] END .......................gamma=0, learning_rate=0.001; total time=   0.5s\n",
      "[CV] END .......................gamma=0, learning_rate=0.001; total time=   0.5s\n",
      "[CV] END .......................gamma=0, learning_rate=0.001; total time=   0.5s\n",
      "[CV] END .........................gamma=1, learning_rate=0.1; total time=   0.2s\n",
      "[CV] END .........................gamma=1, learning_rate=0.1; total time=   0.2s\n",
      "[CV] END .........................gamma=1, learning_rate=0.1; total time=   0.3s\n",
      "[CV] END .........................gamma=1, learning_rate=0.1; total time=   0.9s\n",
      "[CV] END .........................gamma=1, learning_rate=0.1; total time=   0.2s\n",
      "[CV] END .........................gamma=1, learning_rate=0.1; total time=   0.2s\n",
      "[CV] END .........................gamma=1, learning_rate=0.1; total time=   0.2s\n",
      "[CV] END .........................gamma=1, learning_rate=0.1; total time=   0.2s\n",
      "[CV] END .........................gamma=1, learning_rate=0.1; total time=   0.2s\n",
      "[CV] END .........................gamma=1, learning_rate=0.1; total time=   0.1s\n",
      "[CV] END ...........................gamma=1, learning_rate=1; total time=   0.1s\n",
      "[CV] END ...........................gamma=1, learning_rate=1; total time=   0.1s\n",
      "[CV] END ...........................gamma=1, learning_rate=1; total time=   0.1s\n",
      "[CV] END ...........................gamma=1, learning_rate=1; total time=   0.1s\n",
      "[CV] END ...........................gamma=1, learning_rate=1; total time=   0.1s\n",
      "[CV] END ...........................gamma=1, learning_rate=1; total time=   0.2s\n",
      "[CV] END ...........................gamma=1, learning_rate=1; total time=   0.1s\n",
      "[CV] END ...........................gamma=1, learning_rate=1; total time=   0.1s\n",
      "[CV] END ...........................gamma=1, learning_rate=1; total time=   0.1s\n",
      "[CV] END ...........................gamma=1, learning_rate=1; total time=   0.1s\n",
      "[CV] END ........................gamma=1, learning_rate=0.01; total time=   0.2s\n",
      "[CV] END ........................gamma=1, learning_rate=0.01; total time=   0.5s\n",
      "[CV] END ........................gamma=1, learning_rate=0.01; total time=   0.4s\n",
      "[CV] END ........................gamma=1, learning_rate=0.01; total time=   0.4s\n",
      "[CV] END ........................gamma=1, learning_rate=0.01; total time=   0.4s\n",
      "[CV] END ........................gamma=1, learning_rate=0.01; total time=   0.4s\n",
      "[CV] END ........................gamma=1, learning_rate=0.01; total time=   0.3s\n",
      "[CV] END ........................gamma=1, learning_rate=0.01; total time=   0.3s\n",
      "[CV] END ........................gamma=1, learning_rate=0.01; total time=   0.4s\n",
      "[CV] END ........................gamma=1, learning_rate=0.01; total time=   0.4s\n",
      "[CV] END .......................gamma=1, learning_rate=0.001; total time=   0.3s\n",
      "[CV] END .......................gamma=1, learning_rate=0.001; total time=   0.7s\n",
      "[CV] END .......................gamma=1, learning_rate=0.001; total time=   0.2s\n",
      "[CV] END .......................gamma=1, learning_rate=0.001; total time=   0.4s\n",
      "[CV] END .......................gamma=1, learning_rate=0.001; total time=   0.5s\n",
      "[CV] END .......................gamma=1, learning_rate=0.001; total time=   0.3s\n",
      "[CV] END .......................gamma=1, learning_rate=0.001; total time=   0.3s\n",
      "[CV] END .......................gamma=1, learning_rate=0.001; total time=   0.2s\n",
      "[CV] END .......................gamma=1, learning_rate=0.001; total time=   0.5s\n",
      "[CV] END .......................gamma=1, learning_rate=0.001; total time=   0.6s\n",
      "[CV] END ........................gamma=10, learning_rate=0.1; total time=   0.1s\n",
      "[CV] END ........................gamma=10, learning_rate=0.1; total time=   0.1s\n",
      "[CV] END ........................gamma=10, learning_rate=0.1; total time=   0.1s\n",
      "[CV] END ........................gamma=10, learning_rate=0.1; total time=   0.1s\n",
      "[CV] END ........................gamma=10, learning_rate=0.1; total time=   0.1s\n",
      "[CV] END ........................gamma=10, learning_rate=0.1; total time=   0.1s\n",
      "[CV] END ........................gamma=10, learning_rate=0.1; total time=   0.1s\n",
      "[CV] END ........................gamma=10, learning_rate=0.1; total time=   0.1s\n",
      "[CV] END ........................gamma=10, learning_rate=0.1; total time=   0.1s\n",
      "[CV] END ........................gamma=10, learning_rate=0.1; total time=   0.1s\n",
      "[CV] END ..........................gamma=10, learning_rate=1; total time=   0.1s\n",
      "[CV] END ..........................gamma=10, learning_rate=1; total time=   0.0s\n",
      "[CV] END ..........................gamma=10, learning_rate=1; total time=   0.1s\n",
      "[CV] END ..........................gamma=10, learning_rate=1; total time=   0.1s\n",
      "[CV] END ..........................gamma=10, learning_rate=1; total time=   0.1s\n",
      "[CV] END ..........................gamma=10, learning_rate=1; total time=   0.1s\n",
      "[CV] END ..........................gamma=10, learning_rate=1; total time=   0.1s\n",
      "[CV] END ..........................gamma=10, learning_rate=1; total time=   0.0s\n",
      "[CV] END ..........................gamma=10, learning_rate=1; total time=   0.1s\n",
      "[CV] END ..........................gamma=10, learning_rate=1; total time=   0.0s\n",
      "[CV] END .......................gamma=10, learning_rate=0.01; total time=   0.1s\n",
      "[CV] END .......................gamma=10, learning_rate=0.01; total time=   0.1s\n",
      "[CV] END .......................gamma=10, learning_rate=0.01; total time=   0.1s\n",
      "[CV] END .......................gamma=10, learning_rate=0.01; total time=   0.1s\n",
      "[CV] END .......................gamma=10, learning_rate=0.01; total time=   0.1s\n",
      "[CV] END .......................gamma=10, learning_rate=0.01; total time=   0.1s\n",
      "[CV] END .......................gamma=10, learning_rate=0.01; total time=   0.1s\n",
      "[CV] END .......................gamma=10, learning_rate=0.01; total time=   0.1s\n",
      "[CV] END .......................gamma=10, learning_rate=0.01; total time=   0.1s\n",
      "[CV] END .......................gamma=10, learning_rate=0.01; total time=   0.2s\n",
      "[CV] END ......................gamma=10, learning_rate=0.001; total time=   0.3s\n",
      "[CV] END ......................gamma=10, learning_rate=0.001; total time=   0.3s\n",
      "[CV] END ......................gamma=10, learning_rate=0.001; total time=   1.7s\n",
      "[CV] END ......................gamma=10, learning_rate=0.001; total time=   0.1s\n",
      "[CV] END ......................gamma=10, learning_rate=0.001; total time=   0.4s\n",
      "[CV] END ......................gamma=10, learning_rate=0.001; total time=   0.2s\n",
      "[CV] END ......................gamma=10, learning_rate=0.001; total time=   0.1s\n",
      "[CV] END ......................gamma=10, learning_rate=0.001; total time=   0.1s\n",
      "[CV] END ......................gamma=10, learning_rate=0.001; total time=   0.2s\n",
      "[CV] END ......................gamma=10, learning_rate=0.001; total time=   0.1s\n",
      "[CV] END .......................gamma=100, learning_rate=0.1; total time=   0.2s\n",
      "[CV] END .......................gamma=100, learning_rate=0.1; total time=   0.1s\n",
      "[CV] END .......................gamma=100, learning_rate=0.1; total time=   0.2s\n",
      "[CV] END .......................gamma=100, learning_rate=0.1; total time=   0.1s\n",
      "[CV] END .......................gamma=100, learning_rate=0.1; total time=   0.2s\n",
      "[CV] END .......................gamma=100, learning_rate=0.1; total time=   0.1s\n",
      "[CV] END .......................gamma=100, learning_rate=0.1; total time=   0.2s\n",
      "[CV] END .......................gamma=100, learning_rate=0.1; total time=   0.1s\n",
      "[CV] END .......................gamma=100, learning_rate=0.1; total time=   0.1s\n",
      "[CV] END .......................gamma=100, learning_rate=0.1; total time=   0.1s\n",
      "[CV] END .........................gamma=100, learning_rate=1; total time=   0.1s\n",
      "[CV] END .........................gamma=100, learning_rate=1; total time=   0.1s\n",
      "[CV] END .........................gamma=100, learning_rate=1; total time=   0.1s\n",
      "[CV] END .........................gamma=100, learning_rate=1; total time=   0.1s\n",
      "[CV] END .........................gamma=100, learning_rate=1; total time=   0.1s\n",
      "[CV] END .........................gamma=100, learning_rate=1; total time=   0.3s\n",
      "[CV] END .........................gamma=100, learning_rate=1; total time=   0.1s\n",
      "[CV] END .........................gamma=100, learning_rate=1; total time=   0.2s\n",
      "[CV] END .........................gamma=100, learning_rate=1; total time=   0.1s\n",
      "[CV] END .........................gamma=100, learning_rate=1; total time=   0.2s\n",
      "[CV] END ......................gamma=100, learning_rate=0.01; total time=   0.1s\n",
      "[CV] END ......................gamma=100, learning_rate=0.01; total time=   0.2s\n",
      "[CV] END ......................gamma=100, learning_rate=0.01; total time=   0.1s\n",
      "[CV] END ......................gamma=100, learning_rate=0.01; total time=   0.1s\n",
      "[CV] END ......................gamma=100, learning_rate=0.01; total time=   0.1s\n",
      "[CV] END ......................gamma=100, learning_rate=0.01; total time=   0.2s\n",
      "[CV] END ......................gamma=100, learning_rate=0.01; total time=   0.1s\n",
      "[CV] END ......................gamma=100, learning_rate=0.01; total time=   0.1s\n",
      "[CV] END ......................gamma=100, learning_rate=0.01; total time=   0.1s\n",
      "[CV] END ......................gamma=100, learning_rate=0.01; total time=   0.1s\n",
      "[CV] END .....................gamma=100, learning_rate=0.001; total time=   0.1s\n",
      "[CV] END .....................gamma=100, learning_rate=0.001; total time=   0.1s\n",
      "[CV] END .....................gamma=100, learning_rate=0.001; total time=   0.1s\n",
      "[CV] END .....................gamma=100, learning_rate=0.001; total time=   0.1s\n",
      "[CV] END .....................gamma=100, learning_rate=0.001; total time=   0.2s\n",
      "[CV] END .....................gamma=100, learning_rate=0.001; total time=   0.1s\n",
      "[CV] END .....................gamma=100, learning_rate=0.001; total time=   0.1s\n",
      "[CV] END .....................gamma=100, learning_rate=0.001; total time=   0.1s\n",
      "[CV] END .....................gamma=100, learning_rate=0.001; total time=   0.1s\n",
      "[CV] END .....................gamma=100, learning_rate=0.001; total time=   0.1s\n"
     ]
    },
    {
     "data": {
      "text/html": [
       "<style>#sk-container-id-2 {color: black;}#sk-container-id-2 pre{padding: 0;}#sk-container-id-2 div.sk-toggleable {background-color: white;}#sk-container-id-2 label.sk-toggleable__label {cursor: pointer;display: block;width: 100%;margin-bottom: 0;padding: 0.3em;box-sizing: border-box;text-align: center;}#sk-container-id-2 label.sk-toggleable__label-arrow:before {content: \"▸\";float: left;margin-right: 0.25em;color: #696969;}#sk-container-id-2 label.sk-toggleable__label-arrow:hover:before {color: black;}#sk-container-id-2 div.sk-estimator:hover label.sk-toggleable__label-arrow:before {color: black;}#sk-container-id-2 div.sk-toggleable__content {max-height: 0;max-width: 0;overflow: hidden;text-align: left;background-color: #f0f8ff;}#sk-container-id-2 div.sk-toggleable__content pre {margin: 0.2em;color: black;border-radius: 0.25em;background-color: #f0f8ff;}#sk-container-id-2 input.sk-toggleable__control:checked~div.sk-toggleable__content {max-height: 200px;max-width: 100%;overflow: auto;}#sk-container-id-2 input.sk-toggleable__control:checked~label.sk-toggleable__label-arrow:before {content: \"▾\";}#sk-container-id-2 div.sk-estimator input.sk-toggleable__control:checked~label.sk-toggleable__label {background-color: #d4ebff;}#sk-container-id-2 div.sk-label input.sk-toggleable__control:checked~label.sk-toggleable__label {background-color: #d4ebff;}#sk-container-id-2 input.sk-hidden--visually {border: 0;clip: rect(1px 1px 1px 1px);clip: rect(1px, 1px, 1px, 1px);height: 1px;margin: -1px;overflow: hidden;padding: 0;position: absolute;width: 1px;}#sk-container-id-2 div.sk-estimator {font-family: monospace;background-color: #f0f8ff;border: 1px dotted black;border-radius: 0.25em;box-sizing: border-box;margin-bottom: 0.5em;}#sk-container-id-2 div.sk-estimator:hover {background-color: #d4ebff;}#sk-container-id-2 div.sk-parallel-item::after {content: \"\";width: 100%;border-bottom: 1px solid gray;flex-grow: 1;}#sk-container-id-2 div.sk-label:hover label.sk-toggleable__label {background-color: #d4ebff;}#sk-container-id-2 div.sk-serial::before {content: \"\";position: absolute;border-left: 1px solid gray;box-sizing: border-box;top: 0;bottom: 0;left: 50%;z-index: 0;}#sk-container-id-2 div.sk-serial {display: flex;flex-direction: column;align-items: center;background-color: white;padding-right: 0.2em;padding-left: 0.2em;position: relative;}#sk-container-id-2 div.sk-item {position: relative;z-index: 1;}#sk-container-id-2 div.sk-parallel {display: flex;align-items: stretch;justify-content: center;background-color: white;position: relative;}#sk-container-id-2 div.sk-item::before, #sk-container-id-2 div.sk-parallel-item::before {content: \"\";position: absolute;border-left: 1px solid gray;box-sizing: border-box;top: 0;bottom: 0;left: 50%;z-index: -1;}#sk-container-id-2 div.sk-parallel-item {display: flex;flex-direction: column;z-index: 1;position: relative;background-color: white;}#sk-container-id-2 div.sk-parallel-item:first-child::after {align-self: flex-end;width: 50%;}#sk-container-id-2 div.sk-parallel-item:last-child::after {align-self: flex-start;width: 50%;}#sk-container-id-2 div.sk-parallel-item:only-child::after {width: 0;}#sk-container-id-2 div.sk-dashed-wrapped {border: 1px dashed gray;margin: 0 0.4em 0.5em 0.4em;box-sizing: border-box;padding-bottom: 0.4em;background-color: white;}#sk-container-id-2 div.sk-label label {font-family: monospace;font-weight: bold;display: inline-block;line-height: 1.2em;}#sk-container-id-2 div.sk-label-container {text-align: center;}#sk-container-id-2 div.sk-container {/* jupyter's `normalize.less` sets `[hidden] { display: none; }` but bootstrap.min.css set `[hidden] { display: none !important; }` so we also need the `!important` here to be able to override the default hidden behavior on the sphinx rendered scikit-learn.org. See: https://github.com/scikit-learn/scikit-learn/issues/21755 */display: inline-block !important;position: relative;}#sk-container-id-2 div.sk-text-repr-fallback {display: none;}</style><div id=\"sk-container-id-2\" class=\"sk-top-container\"><div class=\"sk-text-repr-fallback\"><pre>GridSearchCV(cv=10,\n",
       "             estimator=XGBClassifier(base_score=None, booster=None,\n",
       "                                     callbacks=None, colsample_bylevel=None,\n",
       "                                     colsample_bynode=None,\n",
       "                                     colsample_bytree=None, device=None,\n",
       "                                     early_stopping_rounds=None,\n",
       "                                     enable_categorical=False, eval_metric=None,\n",
       "                                     feature_types=None, gamma=None,\n",
       "                                     grow_policy=None, importance_type=None,\n",
       "                                     interaction_constraints=None,\n",
       "                                     learning_rate=None...bin=None,\n",
       "                                     max_cat_threshold=None,\n",
       "                                     max_cat_to_onehot=None,\n",
       "                                     max_delta_step=None, max_depth=None,\n",
       "                                     max_leaves=None, min_child_weight=None,\n",
       "                                     missing=nan, monotone_constraints=None,\n",
       "                                     multi_strategy=None, n_estimators=None,\n",
       "                                     n_jobs=None, num_parallel_tree=None,\n",
       "                                     objective=&#x27;multi:softprob&#x27;, ...),\n",
       "             param_grid={&#x27;gamma&#x27;: [0, 1, 10, 100],\n",
       "                         &#x27;learning_rate&#x27;: [0.1, 1, 0.01, 0.001]},\n",
       "             verbose=2)</pre><b>In a Jupyter environment, please rerun this cell to show the HTML representation or trust the notebook. <br />On GitHub, the HTML representation is unable to render, please try loading this page with nbviewer.org.</b></div><div class=\"sk-container\" hidden><div class=\"sk-item sk-dashed-wrapped\"><div class=\"sk-label-container\"><div class=\"sk-label sk-toggleable\"><input class=\"sk-toggleable__control sk-hidden--visually\" id=\"sk-estimator-id-2\" type=\"checkbox\" ><label for=\"sk-estimator-id-2\" class=\"sk-toggleable__label sk-toggleable__label-arrow\">GridSearchCV</label><div class=\"sk-toggleable__content\"><pre>GridSearchCV(cv=10,\n",
       "             estimator=XGBClassifier(base_score=None, booster=None,\n",
       "                                     callbacks=None, colsample_bylevel=None,\n",
       "                                     colsample_bynode=None,\n",
       "                                     colsample_bytree=None, device=None,\n",
       "                                     early_stopping_rounds=None,\n",
       "                                     enable_categorical=False, eval_metric=None,\n",
       "                                     feature_types=None, gamma=None,\n",
       "                                     grow_policy=None, importance_type=None,\n",
       "                                     interaction_constraints=None,\n",
       "                                     learning_rate=None...bin=None,\n",
       "                                     max_cat_threshold=None,\n",
       "                                     max_cat_to_onehot=None,\n",
       "                                     max_delta_step=None, max_depth=None,\n",
       "                                     max_leaves=None, min_child_weight=None,\n",
       "                                     missing=nan, monotone_constraints=None,\n",
       "                                     multi_strategy=None, n_estimators=None,\n",
       "                                     n_jobs=None, num_parallel_tree=None,\n",
       "                                     objective=&#x27;multi:softprob&#x27;, ...),\n",
       "             param_grid={&#x27;gamma&#x27;: [0, 1, 10, 100],\n",
       "                         &#x27;learning_rate&#x27;: [0.1, 1, 0.01, 0.001]},\n",
       "             verbose=2)</pre></div></div></div><div class=\"sk-parallel\"><div class=\"sk-parallel-item\"><div class=\"sk-item\"><div class=\"sk-label-container\"><div class=\"sk-label sk-toggleable\"><input class=\"sk-toggleable__control sk-hidden--visually\" id=\"sk-estimator-id-3\" type=\"checkbox\" ><label for=\"sk-estimator-id-3\" class=\"sk-toggleable__label sk-toggleable__label-arrow\">estimator: XGBClassifier</label><div class=\"sk-toggleable__content\"><pre>XGBClassifier(base_score=None, booster=None, callbacks=None,\n",
       "              colsample_bylevel=None, colsample_bynode=None,\n",
       "              colsample_bytree=None, device=None, early_stopping_rounds=None,\n",
       "              enable_categorical=False, eval_metric=None, feature_types=None,\n",
       "              gamma=None, grow_policy=None, importance_type=None,\n",
       "              interaction_constraints=None, learning_rate=None, max_bin=None,\n",
       "              max_cat_threshold=None, max_cat_to_onehot=None,\n",
       "              max_delta_step=None, max_depth=None, max_leaves=None,\n",
       "              min_child_weight=None, missing=nan, monotone_constraints=None,\n",
       "              multi_strategy=None, n_estimators=None, n_jobs=None,\n",
       "              num_parallel_tree=None, objective=&#x27;multi:softprob&#x27;, ...)</pre></div></div></div><div class=\"sk-serial\"><div class=\"sk-item\"><div class=\"sk-estimator sk-toggleable\"><input class=\"sk-toggleable__control sk-hidden--visually\" id=\"sk-estimator-id-4\" type=\"checkbox\" ><label for=\"sk-estimator-id-4\" class=\"sk-toggleable__label sk-toggleable__label-arrow\">XGBClassifier</label><div class=\"sk-toggleable__content\"><pre>XGBClassifier(base_score=None, booster=None, callbacks=None,\n",
       "              colsample_bylevel=None, colsample_bynode=None,\n",
       "              colsample_bytree=None, device=None, early_stopping_rounds=None,\n",
       "              enable_categorical=False, eval_metric=None, feature_types=None,\n",
       "              gamma=None, grow_policy=None, importance_type=None,\n",
       "              interaction_constraints=None, learning_rate=None, max_bin=None,\n",
       "              max_cat_threshold=None, max_cat_to_onehot=None,\n",
       "              max_delta_step=None, max_depth=None, max_leaves=None,\n",
       "              min_child_weight=None, missing=nan, monotone_constraints=None,\n",
       "              multi_strategy=None, n_estimators=None, n_jobs=None,\n",
       "              num_parallel_tree=None, objective=&#x27;multi:softprob&#x27;, ...)</pre></div></div></div></div></div></div></div></div></div></div>"
      ],
      "text/plain": [
       "GridSearchCV(cv=10,\n",
       "             estimator=XGBClassifier(base_score=None, booster=None,\n",
       "                                     callbacks=None, colsample_bylevel=None,\n",
       "                                     colsample_bynode=None,\n",
       "                                     colsample_bytree=None, device=None,\n",
       "                                     early_stopping_rounds=None,\n",
       "                                     enable_categorical=False, eval_metric=None,\n",
       "                                     feature_types=None, gamma=None,\n",
       "                                     grow_policy=None, importance_type=None,\n",
       "                                     interaction_constraints=None,\n",
       "                                     learning_rate=None...bin=None,\n",
       "                                     max_cat_threshold=None,\n",
       "                                     max_cat_to_onehot=None,\n",
       "                                     max_delta_step=None, max_depth=None,\n",
       "                                     max_leaves=None, min_child_weight=None,\n",
       "                                     missing=nan, monotone_constraints=None,\n",
       "                                     multi_strategy=None, n_estimators=None,\n",
       "                                     n_jobs=None, num_parallel_tree=None,\n",
       "                                     objective='multi:softprob', ...),\n",
       "             param_grid={'gamma': [0, 1, 10, 100],\n",
       "                         'learning_rate': [0.1, 1, 0.01, 0.001]},\n",
       "             verbose=2)"
      ]
     },
     "execution_count": 17,
     "metadata": {},
     "output_type": "execute_result"
    }
   ],
   "source": [
    "from sklearn.model_selection import GridSearchCV\n",
    "\n",
    "grid  = {'learning_rate' : [0.1, 1, 0.01, 0.001], 'gamma' : [0, 1, 10, 100]}\n",
    "model = GridSearchCV(xbc, grid, cv = 10, verbose = 2)\n",
    "\n",
    "model.fit(x_train, y_train)"
   ]
  },
  {
   "cell_type": "markdown",
   "metadata": {},
   "source": [
    "PREDICTING NEW VALUES AS THE MODEL IS NOW UPGRADED"
   ]
  },
  {
   "cell_type": "code",
   "execution_count": 18,
   "metadata": {},
   "outputs": [
    {
     "name": "stdout",
     "output_type": "stream",
     "text": [
      "[4 1 2 4 4 2 2 2 4 2 4 2 4 4 4 4 4 2 2 2 2 2 2 4 4 4 4 2 4 4 2 4 2 2 4 2 4\n",
      " 2 4 2 4 2 2 2 4 4 4 4 4 4 4 4 4 2 2 4 4 2 4 2 4 4 4 4 4 2 4 4 4 2 2 2 2 4\n",
      " 4 4 4 4 2 2 4 4 2 2 2 4 4 2 4 2 4 4 2 4 2 3 4 4 4 4 2 4 4 2 2 4 2 2 4 4 2\n",
      " 4 2 4 4 4 4 4 2 2 4 2 2 4 2 4 4 4 4 2 4 2 4 2 2 2 4 4 4 4 2 2 4 4 4 2 2 4\n",
      " 4 4 4 4 4 2 4 2 4 4 2 4 4 4 2 4 2 2 4 2 2 2 4 4 4 4 2 2 4 4 4 4 4 4 2 1 2\n",
      " 4 4 4 2 4 4 4 4 4 2 2 4 4 4 4 2 4 4 4 2 2 2 4 4 4 2 2 2 2 4 4 4 2 2 2 4 4\n",
      " 4 2 4 4 4 4 2 4 4 2 2 2 2 4 2 4 2 2 4 2 4 2 2 4 2 4 4 4 4 4 2 3 4 4 4 4 4\n",
      " 4 2 1 4 4 4 2 4 2 4 1 4 4 2 2 4 4 2 4 2 4 2 2 2 4 4 4 2 4 2 4 4 2 4]\n"
     ]
    }
   ],
   "source": [
    "grid_predict = model.predict(x_test)\n",
    "print(grid_predict)"
   ]
  },
  {
   "cell_type": "markdown",
   "metadata": {},
   "source": [
    "COMPARING ORIGINAL VALUES TO THE PREDICTED VALUES TO SEE HOW WELL THE UPGRADED MODEL PERFORMED"
   ]
  },
  {
   "cell_type": "code",
   "execution_count": 19,
   "metadata": {},
   "outputs": [
    {
     "name": "stdout",
     "output_type": "stream",
     "text": [
      "AC :  80.88737201365188\n",
      "CR :                precision    recall  f1-score   support\n",
      "\n",
      "           0       0.00      0.00      0.00        10\n",
      "           1       0.25      0.03      0.06        29\n",
      "           2       0.97      0.90      0.93       123\n",
      "           3       1.00      0.33      0.50         6\n",
      "           4       0.72      0.98      0.83       125\n",
      "\n",
      "    accuracy                           0.81       293\n",
      "   macro avg       0.59      0.45      0.46       293\n",
      "weighted avg       0.76      0.81      0.76       293\n",
      "\n"
     ]
    },
    {
     "name": "stderr",
     "output_type": "stream",
     "text": [
      "c:\\Users\\thepn\\AppData\\Local\\Programs\\Python\\Python311\\Lib\\site-packages\\sklearn\\metrics\\_classification.py:1471: UndefinedMetricWarning: Precision and F-score are ill-defined and being set to 0.0 in labels with no predicted samples. Use `zero_division` parameter to control this behavior.\n",
      "  _warn_prf(average, modifier, msg_start, len(result))\n",
      "c:\\Users\\thepn\\AppData\\Local\\Programs\\Python\\Python311\\Lib\\site-packages\\sklearn\\metrics\\_classification.py:1471: UndefinedMetricWarning: Precision and F-score are ill-defined and being set to 0.0 in labels with no predicted samples. Use `zero_division` parameter to control this behavior.\n",
      "  _warn_prf(average, modifier, msg_start, len(result))\n",
      "c:\\Users\\thepn\\AppData\\Local\\Programs\\Python\\Python311\\Lib\\site-packages\\sklearn\\metrics\\_classification.py:1471: UndefinedMetricWarning: Precision and F-score are ill-defined and being set to 0.0 in labels with no predicted samples. Use `zero_division` parameter to control this behavior.\n",
      "  _warn_prf(average, modifier, msg_start, len(result))\n"
     ]
    }
   ],
   "source": [
    "print('AC : ', accuracy_score(y_test, grid_predict) * 100)\n",
    "print('CR : ', classification_report(y_test, grid_predict))"
   ]
  },
  {
   "cell_type": "markdown",
   "metadata": {},
   "source": [
    "CHECKING THE BEST ESTIMATOR"
   ]
  },
  {
   "cell_type": "code",
   "execution_count": 20,
   "metadata": {},
   "outputs": [
    {
     "name": "stdout",
     "output_type": "stream",
     "text": [
      "XGBClassifier(base_score=None, booster=None, callbacks=None,\n",
      "              colsample_bylevel=None, colsample_bynode=None,\n",
      "              colsample_bytree=None, device=None, early_stopping_rounds=None,\n",
      "              enable_categorical=False, eval_metric=None, feature_types=None,\n",
      "              gamma=1, grow_policy=None, importance_type=None,\n",
      "              interaction_constraints=None, learning_rate=0.01, max_bin=None,\n",
      "              max_cat_threshold=None, max_cat_to_onehot=None,\n",
      "              max_delta_step=None, max_depth=None, max_leaves=None,\n",
      "              min_child_weight=None, missing=nan, monotone_constraints=None,\n",
      "              multi_strategy=None, n_estimators=None, n_jobs=None,\n",
      "              num_parallel_tree=None, objective='multi:softprob', ...)\n"
     ]
    }
   ],
   "source": [
    "print(model.best_estimator_)"
   ]
  }
 ],
 "metadata": {
  "kernelspec": {
   "display_name": "Python 3",
   "language": "python",
   "name": "python3"
  },
  "language_info": {
   "codemirror_mode": {
    "name": "ipython",
    "version": 3
   },
   "file_extension": ".py",
   "mimetype": "text/x-python",
   "name": "python",
   "nbconvert_exporter": "python",
   "pygments_lexer": "ipython3",
   "version": "3.11.1"
  }
 },
 "nbformat": 4,
 "nbformat_minor": 2
}
