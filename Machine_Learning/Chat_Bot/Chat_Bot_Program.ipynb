{
 "cells": [
  {
   "cell_type": "markdown",
   "metadata": {},
   "source": [
    "IMPORTING LIBRARIES"
   ]
  },
  {
   "cell_type": "code",
   "execution_count": null,
   "metadata": {},
   "outputs": [],
   "source": [
    "import requests\n",
    "import re\n",
    "\n",
    "from bs4 import BeautifulSoup\n",
    "\n",
    "from langchain.document_loaders    import UnstructuredFileLoader\n",
    "from langchain.text_splitter       import CharacterTextSplitter\n",
    "from langchain.vectorstores.chroma import Chroma\n",
    "\n",
    "from langchain.embeddings.huggingface    import HuggingFaceEmbeddings\n",
    "from langchain.llms.huggingface_pipeline import HuggingFacePipeline\n",
    "\n",
    "from langchain.memory import ConversationBufferMemory\n",
    "from langchain.chains import ConversationalRetrievalChain\n",
    "\n",
    "from transformers.pipelines import pipeline"
   ]
  },
  {
   "cell_type": "markdown",
   "metadata": {},
   "source": [
    "DATA EXTRACTION FROM SPECIFIED URLS"
   ]
  },
  {
   "cell_type": "code",
   "execution_count": 2,
   "metadata": {},
   "outputs": [
    {
     "name": "stdout",
     "output_type": "stream",
     "text": [
      "Data Extracted Successfully.\n",
      "\n"
     ]
    }
   ],
   "source": [
    "urls = ['https://fctraining.org/complete-seo-course.php', \n",
    "        'https://fctraining.org/data-science-machine-learning-ai-course.php']\n",
    "\n",
    "data = ''\n",
    "for url in urls:\n",
    "\n",
    "  rp = requests.get(url)\n",
    "  bs = BeautifulSoup(rp.text, 'html.parser')\n",
    "\n",
    "  dt = re.sub(r'\\[.*?\\]', '', bs.get_text())\n",
    "  dt = dt.strip()\n",
    "\n",
    "  data += (dt + '\\n\\n')\n",
    "\n",
    "with open('Chat_Bot_Data.txt', 'w', encoding = 'utf-8') as file:\n",
    "  file.write(data)\n",
    "\n",
    "print('Data Extracted Successfully.\\n')"
   ]
  },
  {
   "cell_type": "markdown",
   "metadata": {},
   "source": [
    "FINE TUNING A HUGGING FACE MODEL"
   ]
  },
  {
   "cell_type": "code",
   "execution_count": 6,
   "metadata": {},
   "outputs": [
    {
     "name": "stderr",
     "output_type": "stream",
     "text": [
      "Created a chunk of size 255, which is longer than the specified 100\n",
      "Created a chunk of size 275, which is longer than the specified 100\n",
      "Created a chunk of size 207, which is longer than the specified 100\n",
      "Created a chunk of size 432, which is longer than the specified 100\n",
      "Created a chunk of size 180, which is longer than the specified 100\n",
      "Created a chunk of size 134, which is longer than the specified 100\n",
      "Created a chunk of size 224, which is longer than the specified 100\n",
      "Created a chunk of size 267, which is longer than the specified 100\n",
      "Created a chunk of size 210, which is longer than the specified 100\n",
      "Created a chunk of size 268, which is longer than the specified 100\n",
      "Created a chunk of size 291, which is longer than the specified 100\n",
      "Created a chunk of size 263, which is longer than the specified 100\n",
      "Created a chunk of size 265, which is longer than the specified 100\n",
      "Created a chunk of size 240, which is longer than the specified 100\n",
      "Created a chunk of size 272, which is longer than the specified 100\n",
      "Created a chunk of size 198, which is longer than the specified 100\n",
      "Created a chunk of size 232, which is longer than the specified 100\n",
      "Created a chunk of size 143, which is longer than the specified 100\n",
      "Created a chunk of size 254, which is longer than the specified 100\n",
      "Created a chunk of size 120, which is longer than the specified 100\n",
      "Created a chunk of size 117, which is longer than the specified 100\n",
      "Created a chunk of size 112, which is longer than the specified 100\n",
      "Created a chunk of size 200, which is longer than the specified 100\n",
      "Created a chunk of size 303, which is longer than the specified 100\n",
      "Created a chunk of size 244, which is longer than the specified 100\n",
      "Created a chunk of size 205, which is longer than the specified 100\n",
      "Created a chunk of size 205, which is longer than the specified 100\n",
      "Created a chunk of size 187, which is longer than the specified 100\n",
      "Created a chunk of size 221, which is longer than the specified 100\n",
      "Created a chunk of size 113, which is longer than the specified 100\n",
      "Created a chunk of size 109, which is longer than the specified 100\n",
      "Created a chunk of size 115, which is longer than the specified 100\n",
      "Created a chunk of size 125, which is longer than the specified 100\n",
      "Created a chunk of size 379, which is longer than the specified 100\n",
      "Created a chunk of size 512, which is longer than the specified 100\n",
      "Created a chunk of size 255, which is longer than the specified 100\n",
      "Created a chunk of size 167, which is longer than the specified 100\n",
      "Created a chunk of size 255, which is longer than the specified 100\n",
      "Created a chunk of size 652, which is longer than the specified 100\n",
      "Created a chunk of size 969, which is longer than the specified 100\n",
      "Created a chunk of size 129, which is longer than the specified 100\n",
      "Created a chunk of size 389, which is longer than the specified 100\n",
      "Created a chunk of size 207, which is longer than the specified 100\n",
      "Created a chunk of size 248, which is longer than the specified 100\n",
      "Created a chunk of size 310, which is longer than the specified 100\n",
      "Created a chunk of size 324, which is longer than the specified 100\n",
      "Created a chunk of size 301, which is longer than the specified 100\n",
      "Created a chunk of size 138, which is longer than the specified 100\n",
      "Created a chunk of size 168, which is longer than the specified 100\n",
      "Created a chunk of size 185, which is longer than the specified 100\n",
      "Created a chunk of size 109, which is longer than the specified 100\n",
      "Created a chunk of size 148, which is longer than the specified 100\n",
      "Created a chunk of size 174, which is longer than the specified 100\n",
      "Created a chunk of size 158, which is longer than the specified 100\n",
      "Created a chunk of size 161, which is longer than the specified 100\n",
      "Created a chunk of size 479, which is longer than the specified 100\n",
      "Created a chunk of size 512, which is longer than the specified 100\n",
      "Created a chunk of size 255, which is longer than the specified 100\n",
      "Created a chunk of size 167, which is longer than the specified 100\n"
     ]
    }
   ],
   "source": [
    "ld = UnstructuredFileLoader('Chat_Bot_Data.txt')\n",
    "dm = ld.load() \n",
    "\n",
    "ts = CharacterTextSplitter(chunk_size = 100, chunk_overlap = 0, separator = '\\n\\n', length_function = len)\n",
    "ds = ts.split_documents(dm)\n",
    "\n",
    "eb = HuggingFaceEmbeddings()\n",
    "vs = Chroma.from_documents(ds, eb)\n",
    "\n",
    "pl = pipeline(model = 'declare-lab/flan-alpaca-base', task = 'text2text-generation', max_length = 1100, do_sample = True, temperature = 0.9)\n",
    "lm = HuggingFacePipeline(pipeline = pl)\n",
    "\n",
    "mm = ConversationBufferMemory(memory_key = 'chat_history', return_messages = True)\n",
    "ch = ConversationalRetrievalChain.from_llm(llm = lm, retriever = vs.as_retriever(), memory = mm)"
   ]
  },
  {
   "cell_type": "markdown",
   "metadata": {},
   "source": [
    "HAVING A CONVERSATION WITH THE TRAINED MODEL"
   ]
  },
  {
   "cell_type": "code",
   "execution_count": 7,
   "metadata": {},
   "outputs": [
    {
     "name": "stdout",
     "output_type": "stream",
     "text": [
      "A : The cost of the course would depend on the size of the course, the location, the requirements for attendance, and the level of completion of the course.\n",
      "\n",
      "A : The cost of your Data Science course will depend on the number of sessions and the course itself.\n",
      "\n"
     ]
    }
   ],
   "source": [
    "cd = True\n",
    "\n",
    "while cd == True:\n",
    "  q = input('Q : ')\n",
    "\n",
    "  if q == 'Exit':\n",
    "    cd = False\n",
    "\n",
    "  else:\n",
    "    a = ch.run(q)\n",
    "    print(f'A : {a}\\n')"
   ]
  }
 ],
 "metadata": {
  "kernelspec": {
   "display_name": "Python 3",
   "language": "python",
   "name": "python3"
  },
  "language_info": {
   "codemirror_mode": {
    "name": "ipython",
    "version": 3
   },
   "file_extension": ".py",
   "mimetype": "text/x-python",
   "name": "python",
   "nbconvert_exporter": "python",
   "pygments_lexer": "ipython3",
   "version": "3.11.1"
  }
 },
 "nbformat": 4,
 "nbformat_minor": 2
}
