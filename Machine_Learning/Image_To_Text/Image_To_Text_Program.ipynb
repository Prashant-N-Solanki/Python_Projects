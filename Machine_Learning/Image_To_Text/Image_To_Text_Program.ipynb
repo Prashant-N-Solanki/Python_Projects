{
 "cells": [
  {
   "cell_type": "markdown",
   "metadata": {},
   "source": [
    "IMPORTING LIBRARIES"
   ]
  },
  {
   "cell_type": "code",
   "execution_count": 1,
   "metadata": {},
   "outputs": [],
   "source": [
    "import torch\n",
    "\n",
    "from PIL import Image\n",
    "from transformers import VisionEncoderDecoderModel, ViTImageProcessor, AutoTokenizer"
   ]
  },
  {
   "cell_type": "markdown",
   "metadata": {},
   "source": [
    "IMAGE FILE & HUGGING FACE MODEL"
   ]
  },
  {
   "cell_type": "code",
   "execution_count": 2,
   "metadata": {},
   "outputs": [],
   "source": [
    "im = Image.open('Image.jpg')\n",
    "m  = 'nlpconnect/vit-gpt2-image-captioning'"
   ]
  },
  {
   "cell_type": "markdown",
   "metadata": {},
   "source": [
    "DEPENDENCIES"
   ]
  },
  {
   "cell_type": "code",
   "execution_count": 3,
   "metadata": {},
   "outputs": [],
   "source": [
    "md = VisionEncoderDecoderModel.from_pretrained(m)\n",
    "fe = ViTImageProcessor.from_pretrained(m)\n",
    "tk = AutoTokenizer.from_pretrained(m)"
   ]
  },
  {
   "cell_type": "markdown",
   "metadata": {},
   "source": [
    "PROCESSOR SELECTION & RGB CONVERSION"
   ]
  },
  {
   "cell_type": "code",
   "execution_count": 4,
   "metadata": {},
   "outputs": [],
   "source": [
    "dv = torch.device('cuda' if torch.cuda.is_available() else 'cpu')\n",
    "md.to(dv)\n",
    "\n",
    "if im.mode != 'RGB': im = im.convert(mode = 'RGB')"
   ]
  },
  {
   "cell_type": "markdown",
   "metadata": {},
   "source": [
    "TEXT GENERATION"
   ]
  },
  {
   "cell_type": "code",
   "execution_count": 5,
   "metadata": {},
   "outputs": [
    {
     "name": "stderr",
     "output_type": "stream",
     "text": [
      "We strongly recommend passing in an `attention_mask` since your input_ids may be padded. See https://huggingface.co/docs/transformers/troubleshooting#incorrect-output-when-padding-tokens-arent-masked.\n",
      "You may ignore this warning if your `pad_token_id` (50256) is identical to the `bos_token_id` (50256), `eos_token_id` (50256), or the `sep_token_id` (None), and your input is not padded.\n"
     ]
    },
    {
     "name": "stdout",
     "output_type": "stream",
     "text": [
      "\n",
      "Q : Image.jpg\n",
      "A : ['a dog that is standing in the snow']\n"
     ]
    }
   ],
   "source": [
    "pv = fe(images = im, return_tensors = 'pt').pixel_values\n",
    "pv = pv.to(dv)\n",
    "\n",
    "gk = {'max_length' : 16, 'num_beams' : 4}\n",
    "op = md.generate(pv, **gk)\n",
    "\n",
    "a  = tk.batch_decode(op, skip_special_tokens = True)\n",
    "a  = [p.strip() for p in a]\n",
    "\n",
    "print(f'\\nQ : Image.jpg\\nA : {a}')"
   ]
  }
 ],
 "metadata": {
  "kernelspec": {
   "display_name": "Python 3",
   "language": "python",
   "name": "python3"
  },
  "language_info": {
   "codemirror_mode": {
    "name": "ipython",
    "version": 3
   },
   "file_extension": ".py",
   "mimetype": "text/x-python",
   "name": "python",
   "nbconvert_exporter": "python",
   "pygments_lexer": "ipython3",
   "version": "3.11.1"
  }
 },
 "nbformat": 4,
 "nbformat_minor": 2
}
